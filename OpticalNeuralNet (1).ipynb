{
 "cells": [
  {
   "cell_type": "code",
   "execution_count": 1,
   "id": "219e8153-05cb-4c27-a3cf-7d82522a4e11",
   "metadata": {},
   "outputs": [
    {
     "name": "stderr",
     "output_type": "stream",
     "text": [
      "/opt/conda/envs/pennylane/lib/python3.8/site-packages/_distutils_hack/__init__.py:30: UserWarning: Setuptools is replacing distutils.\n",
      "  warnings.warn(\"Setuptools is replacing distutils.\")\n",
      "WARNING:matplotlib:Matplotlib created a temporary config/cache directory at /tmp/matplotlib-qn6k_em4 because the default path (/home/jovyan/.config/matplotlib) is not a writable directory; it is highly recommended to set the MPLCONFIGDIR environment variable to a writable directory, in particular to speed up the import of Matplotlib and to better support multiprocessing.\n"
     ]
    }
   ],
   "source": [
    "import pennylane as qml\n",
    "from pennylane import numpy as np\n",
    "\n",
    "import nlopt"
   ]
  },
  {
   "cell_type": "code",
   "execution_count": 2,
   "id": "8900770e-71a0-4b7b-a364-dbfa2b2ddd24",
   "metadata": {},
   "outputs": [],
   "source": [
    "dev = qml.device(\"strawberryfields.fock\", wires=4, cutoff_dim=4)"
   ]
  },
  {
   "cell_type": "code",
   "execution_count": 3,
   "id": "1ba7ce69-9fd9-455b-b345-b192ebc295be",
   "metadata": {},
   "outputs": [],
   "source": [
    "def layer(theta, phi, wires):\n",
    "    M = len(wires)\n",
    "    phi_nonlinear = np.pi / 2\n",
    "\n",
    "    qml.Interferometer(\n",
    "        theta, phi, np.zeros(M), wires=wires, mesh=\"triangular\",\n",
    "    )\n",
    "\n",
    "    for i in wires:\n",
    "        qml.Kerr(phi_nonlinear, wires=i)"
   ]
  },
  {
   "cell_type": "code",
   "execution_count": 4,
   "id": "1d7191db-181b-417f-ae55-417854ba9f59",
   "metadata": {},
   "outputs": [],
   "source": [
    "@qml.qnode(dev)\n",
    "def quantum_neural_net(var, x):\n",
    "    wires = list(range(len(x)))\n",
    "\n",
    "    # Encode input x into a sequence of quantum fock states\n",
    "    for i in wires:\n",
    "        qml.FockState(x[i], wires=i)\n",
    "\n",
    "    # \"layer\" subcircuits\n",
    "    for i, v in enumerate(var):\n",
    "        layer(v[: len(v) // 2], v[len(v) // 2 :], wires)\n",
    "\n",
    "    return [qml.expval(qml.NumberOperator(w)) for w in wires]"
   ]
  },
  {
   "cell_type": "code",
   "execution_count": 5,
   "id": "d603f1b6-1bdc-400f-a6d4-0109a1068c5f",
   "metadata": {},
   "outputs": [],
   "source": [
    "def square_loss(labels, predictions):\n",
    "    term = 0\n",
    "    for l, p in zip(labels, predictions):\n",
    "        lnorm = l / np.linalg.norm(l)\n",
    "        pnorm = p / np.linalg.norm(p)\n",
    "\n",
    "        term = term + np.abs(np.dot(lnorm, pnorm.T)) ** 2\n",
    "\n",
    "    return 1 - term / len(labels)"
   ]
  },
  {
   "cell_type": "code",
   "execution_count": 6,
   "id": "8788f7b4-ace6-44c3-98fd-49d3b610acf7",
   "metadata": {},
   "outputs": [],
   "source": [
    "def cost(var, data_input, labels):\n",
    "    predictions = np.array([quantum_neural_net(var, x) for x in data_input])\n",
    "    sl = square_loss(labels, predictions)\n",
    "\n",
    "    return sl"
   ]
  },
  {
   "cell_type": "code",
   "execution_count": 7,
   "id": "2e404a0e-3958-43e8-b2e8-46b751cc7376",
   "metadata": {},
   "outputs": [],
   "source": [
    "# Define the CNOT input-output states (dual-rail encoding) and initialize\n",
    "# them as non-differentiable.\n",
    "\n",
    "X = np.array([[1, 0, 1, 0],\n",
    "              [1, 0, 0, 1],\n",
    "              [0, 1, 1, 0],\n",
    "              [0, 1, 0, 1]], requires_grad=False)\n",
    "\n",
    "Y = np.array([[1, 0, 1, 0],\n",
    "              [1, 0, 0, 1],\n",
    "              [0, 1, 0, 1],\n",
    "              [0, 1, 1, 0]], requires_grad=False)"
   ]
  },
  {
   "cell_type": "code",
   "execution_count": 8,
   "id": "31983e2e-f9e2-493e-9bf6-6882685d62e9",
   "metadata": {},
   "outputs": [
    {
     "name": "stdout",
     "output_type": "stream",
     "text": [
      "[[ 5.99038594 -1.50550479  5.31866903 -2.99466132 -2.27329341 -4.79920711\n",
      "  -3.24506046 -2.2803699   5.83179179 -2.97006415 -0.74133893  1.38067731]\n",
      " [ 4.56939998  4.5711137   2.1976234   2.00904031  2.96261861 -3.48398028\n",
      "  -4.12093786  4.65477183 -5.52746064  2.30830291  2.15184041  1.3950931 ]]\n"
     ]
    }
   ],
   "source": [
    "num_layers = 2\n",
    "M = len(X[0])\n",
    "num_variables_per_layer = M * (M - 1)\n",
    "\n",
    "rng = np.random.default_rng(seed=1234)\n",
    "var_init = (4 * rng.random(size=(num_layers, num_variables_per_layer), requires_grad=True) - 2) * np.pi\n",
    "print(var_init)"
   ]
  },
  {
   "cell_type": "code",
   "execution_count": 9,
   "id": "93fd4fdb-219b-406c-8d9d-08dae1c311be",
   "metadata": {},
   "outputs": [
    {
     "name": "stdout",
     "output_type": "stream",
     "text": [
      "Iter:    1    Cost: 5.2344e-01\n",
      "Iter:    2    Cost: 4.6269e-01\n",
      "Iter:    3    Cost: 3.3963e-01\n",
      "Iter:    4    Cost: 3.0214e-01\n",
      "Iter:    5    Cost: 2.7352e-01\n",
      "Iter:    6    Cost: 1.9481e-01\n",
      "Iter:    7    Cost: 2.6425e-01\n",
      "Iter:    8    Cost: 8.8005e-02\n",
      "Iter:    9    Cost: 1.3520e-01\n",
      "Iter:   10    Cost: 6.9529e-02\n",
      "Iter:   11    Cost: 2.2332e-02\n",
      "Iter:   12    Cost: 5.4051e-03\n",
      "Iter:   13    Cost: 1.7288e-03\n",
      "Iter:   14    Cost: 5.7472e-04\n",
      "Iter:   15    Cost: 2.1946e-04\n",
      "Iter:   16    Cost: 8.5438e-05\n",
      "Iter:   17    Cost: 3.9276e-05\n",
      "Iter:   18    Cost: 1.8697e-05\n",
      "Iter:   19    Cost: 8.7004e-06\n",
      "Iter:   20    Cost: 3.7786e-06\n",
      "Iter:   21    Cost: 1.5192e-06\n",
      "Iter:   22    Cost: 7.0577e-07\n",
      "Iter:   23    Cost: 3.1065e-07\n",
      "Iter:   24    Cost: 1.4212e-07\n",
      "Iter:   25    Cost: 6.3160e-08\n",
      "Iter:   26    Cost: 2.5086e-08\n",
      "Iter:   27    Cost: 1.2039e-08\n",
      "Iter:   28    Cost: 4.6965e-09\n",
      "Iter:   29    Cost: 1.6962e-09\n",
      "Iter:   30    Cost: 6.1205e-10\n",
      "Iter:   31    Cost: 2.4764e-10\n",
      "Iter:   32    Cost: 1.2485e-10\n",
      "Iter:   33    Cost: 8.3915e-11\n",
      "Iter:   34    Cost: 6.1668e-11\n",
      "Iter:   35    Cost: 5.1633e-11\n",
      "Iter:   36    Cost: 4.8152e-11\n",
      "Iter:   37    Cost: 3.9745e-11\n",
      "Iter:   38    Cost: 3.2651e-11\n",
      "Iter:   39    Cost: 1.9693e-11\n"
     ]
    }
   ],
   "source": [
    "cost_grad = qml.grad(cost)\n",
    "\n",
    "print_every = 1\n",
    "\n",
    "# Wrap the cost so that NLopt can use it for gradient-based optimizations\n",
    "evals = 0\n",
    "def cost_wrapper(var, grad=[]):\n",
    "    global evals\n",
    "    evals += 1\n",
    "\n",
    "    if grad.size > 0:\n",
    "        # Get the gradient for `var` by first \"unflattening\" it\n",
    "        var = var.reshape((num_layers, num_variables_per_layer))\n",
    "        var = np.array(var, requires_grad=True)\n",
    "        var_grad = cost_grad(var, X, Y)\n",
    "        grad[:] = var_grad.flatten()\n",
    "    cost_val = cost(var.reshape((num_layers, num_variables_per_layer)), X, Y)\n",
    "\n",
    "    if evals % print_every == 0:\n",
    "        print(f\"Iter: {evals:4d}    Cost: {cost_val:.4e}\")\n",
    "\n",
    "    return float(cost_val)\n",
    "\n",
    "\n",
    "# Choose an algorithm\n",
    "opt_algorithm = nlopt.LD_LBFGS  # Gradient-based\n",
    "# opt_algorithm = nlopt.LN_BOBYQA  # Gradient-free\n",
    "\n",
    "opt = nlopt.opt(opt_algorithm, num_layers*num_variables_per_layer)\n",
    "\n",
    "opt.set_min_objective(cost_wrapper)\n",
    "\n",
    "opt.set_lower_bounds(-2*np.pi * np.ones(num_layers*num_variables_per_layer))\n",
    "opt.set_upper_bounds(2*np.pi * np.ones(num_layers*num_variables_per_layer))\n",
    "\n",
    "var = opt.optimize(var_init.flatten())\n",
    "var = var.reshape(var_init.shape)"
   ]
  },
  {
   "cell_type": "code",
   "execution_count": 10,
   "id": "3a3213bb-3d4a-4cd0-8a29-6915d1e9c675",
   "metadata": {},
   "outputs": [
    {
     "name": "stdout",
     "output_type": "stream",
     "text": [
      "The optimized parameters (layers, parameters):\n",
      " [[ 5.59646473 -0.76686268  6.28318531 -3.22867181 -1.61696116 -4.79794956\n",
      "  -3.44889053 -2.68088815  5.65397191 -2.81207156 -0.59737993  1.39431044]\n",
      " [ 4.7105638   5.24800052  3.14152765  3.13959016  2.78451845 -3.92895253\n",
      "  -4.38654718  4.65891554 -5.34964081  2.60705101  2.40425267  1.39415475]]\n",
      "\n",
      "[1 0 1 0] --> [1. 0. 1. 0.], should be [1 0 1 0]\n",
      "[1 0 0 1] --> [1. 0. 0. 1.], should be [1 0 0 1]\n",
      "[0 1 1 0] --> [0. 1. 0. 1.], should be [0 1 0 1]\n",
      "[0 1 0 1] --> [0. 1. 1. 0.], should be [0 1 1 0]\n"
     ]
    }
   ],
   "source": [
    "print(f\"The optimized parameters (layers, parameters):\\n {var}\\n\")\n",
    "\n",
    "Y_pred = np.array([quantum_neural_net(var, x) for x in X])\n",
    "for i, x in enumerate(X):\n",
    "    print(f\"{x} --> {Y_pred[i].round(2)}, should be {Y[i]}\")"
   ]
  },
  {
   "cell_type": "code",
   "execution_count": 11,
   "id": "6ac6a51c-aa88-4788-85ef-21dc483503ed",
   "metadata": {},
   "outputs": [
    {
     "name": "stdout",
     "output_type": "stream",
     "text": [
      " 0: ──|1⟩───────────────────────────────────────╭BS(5.32, 5.83)─────R(0)────────────────Kerr(1.57)─────────────────────────────────────────────────────────────────╭BS(2.2, -5.53)───R(0)─────────────Kerr(1.57)──────────────────────────────┤ ⟨n⟩ \n",
      " 1: ──|0⟩────────────────────╭BS(-1.51, -2.28)──╰BS(5.32, 5.83)────╭BS(-2.27, -0.741)───R(0)────────────Kerr(1.57)────────────────────────────────╭BS(4.57, 4.65)──╰BS(2.2, -5.53)──╭BS(2.96, 2.15)───R(0)────────────Kerr(1.57)──────────────┤ ⟨n⟩ \n",
      " 2: ──|1⟩──╭BS(5.99, -3.25)──╰BS(-1.51, -2.28)──╭BS(-2.99, -2.97)──╰BS(-2.27, -0.741)──╭BS(-4.8, 1.38)──R(0)────────Kerr(1.57)──╭BS(4.57, -4.12)──╰BS(4.57, 4.65)──╭BS(2.01, 2.31)──╰BS(2.96, 2.15)──╭BS(-3.48, 1.4)──R(0)────────Kerr(1.57)──┤ ⟨n⟩ \n",
      " 3: ──|0⟩──╰BS(5.99, -3.25)─────────────────────╰BS(-2.99, -2.97)──────────────────────╰BS(-4.8, 1.38)──R(0)────────Kerr(1.57)──╰BS(4.57, -4.12)───────────────────╰BS(2.01, 2.31)───────────────────╰BS(-3.48, 1.4)──R(0)────────Kerr(1.57)──┤ ⟨n⟩ \n",
      "\n"
     ]
    }
   ],
   "source": [
    "print(qml.draw(quantum_neural_net)(var_init, X[0]))\n"
   ]
  },
  {
   "cell_type": "code",
   "execution_count": null,
   "id": "7cfd3c6d-4c09-4b58-8ae1-ed972e1604b0",
   "metadata": {},
   "outputs": [],
   "source": []
  }
 ],
 "metadata": {
  "kernelspec": {
   "display_name": "PennyLane",
   "language": "python",
   "name": "pennylane"
  },
  "language_info": {
   "codemirror_mode": {
    "name": "ipython",
    "version": 3
   },
   "file_extension": ".py",
   "mimetype": "text/x-python",
   "name": "python",
   "nbconvert_exporter": "python",
   "pygments_lexer": "ipython3",
   "version": "3.8.12"
  }
 },
 "nbformat": 4,
 "nbformat_minor": 5
}
